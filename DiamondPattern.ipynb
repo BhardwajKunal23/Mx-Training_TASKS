{
  "nbformat": 4,
  "nbformat_minor": 0,
  "metadata": {
    "colab": {
      "name": "DiamondPattern.ipynb",
      "provenance": []
    },
    "kernelspec": {
      "name": "python3",
      "display_name": "Python 3"
    },
    "language_info": {
      "name": "python"
    }
  },
  "cells": [
    {
      "cell_type": "code",
      "source": [
        "h=eval(input(\"Enter Diamond's height: \"))\n",
        "for i in range(h):\n",
        "  if(i<h/2):\n",
        "    print(\" \"*(int((h/2)-i)),\"#\"*((i*2)+1))\n",
        "  else:\n",
        "    print(\" \"*(int(i-(h/2)+1)),\"#\"*((h-i)*2-1))"
      ],
      "metadata": {
        "colab": {
          "base_uri": "https://localhost:8080/"
        },
        "id": "8nKvgxvhI8I3",
        "outputId": "673ddc3e-5911-4ed4-c3ed-8dec3827534a"
      },
      "execution_count": 6,
      "outputs": [
        {
          "output_type": "stream",
          "name": "stdout",
          "text": [
            "Enter Diamond's height: 20\n",
            "           #\n",
            "          ###\n",
            "         #####\n",
            "        #######\n",
            "       #########\n",
            "      ###########\n",
            "     #############\n",
            "    ###############\n",
            "   #################\n",
            "  ###################\n",
            "  ###################\n",
            "   #################\n",
            "    ###############\n",
            "     #############\n",
            "      ###########\n",
            "       #########\n",
            "        #######\n",
            "         #####\n",
            "          ###\n",
            "           #\n"
          ]
        }
      ]
    }
  ]
}